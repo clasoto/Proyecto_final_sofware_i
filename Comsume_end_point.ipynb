{
 "cells": [
  {
   "cell_type": "code",
   "execution_count": 46,
   "id": "a948a9c9",
   "metadata": {},
   "outputs": [],
   "source": [
    "import boto3\n",
    "import numpy as np\n",
    "import pandas as pd\n",
    "from sagemaker.serializers import CSVSerializer"
   ]
  },
  {
   "cell_type": "code",
   "execution_count": 47,
   "id": "3b990d45",
   "metadata": {},
   "outputs": [],
   "source": [
    "client = boto3.client('sagemaker-runtime','us-east-1')"
   ]
  },
  {
   "cell_type": "code",
   "execution_count": 48,
   "id": "0c62ccda",
   "metadata": {},
   "outputs": [],
   "source": [
    "endpoint=\"sagemaker-scikit-learn-2022-12-06-19-38-33-594\"\n"
   ]
  },
  {
   "cell_type": "code",
   "execution_count": null,
   "id": "fe88b29e",
   "metadata": {},
   "outputs": [],
   "source": []
  },
  {
   "cell_type": "code",
   "execution_count": 49,
   "id": "9e7a226d",
   "metadata": {},
   "outputs": [],
   "source": [
    "#input_data = test_f"
   ]
  },
  {
   "cell_type": "code",
   "execution_count": null,
   "id": "b3080b44",
   "metadata": {},
   "outputs": [],
   "source": [
    "\n"
   ]
  },
  {
   "cell_type": "code",
   "execution_count": null,
   "id": "1a59c29a",
   "metadata": {},
   "outputs": [],
   "source": [
    "payload = \"100,10,25,30,4,1,0,0 \\n100,10,25,30,4,1,0,0\\n\"\n",
    "\n",
    "response = client.invoke_endpoint(\n",
    "    EndpointName=endpoint,\n",
    "    Body=payload,\n",
    "    ContentType='text/csv'\n",
    ")\n",
    "\n",
    "prediction = response['Body'].read()\n",
    "\n",
    "print(prediction)"
   ]
  },
  {
   "cell_type": "code",
   "execution_count": null,
   "id": "c0b88fff",
   "metadata": {},
   "outputs": [],
   "source": [
    "\n",
    "\n",
    "\n",
    "\n"
   ]
  },
  {
   "cell_type": "code",
   "execution_count": null,
   "id": "6b7943f0",
   "metadata": {},
   "outputs": [],
   "source": []
  },
  {
   "cell_type": "code",
   "execution_count": null,
   "id": "bfc86e79",
   "metadata": {},
   "outputs": [],
   "source": [
    "\n"
   ]
  },
  {
   "cell_type": "code",
   "execution_count": null,
   "id": "bdea2f4a",
   "metadata": {},
   "outputs": [],
   "source": []
  }
 ],
 "metadata": {
  "kernelspec": {
   "display_name": "conda_pytorch_p38",
   "language": "python",
   "name": "conda_pytorch_p38"
  },
  "language_info": {
   "codemirror_mode": {
    "name": "ipython",
    "version": 3
   },
   "file_extension": ".py",
   "mimetype": "text/x-python",
   "name": "python",
   "nbconvert_exporter": "python",
   "pygments_lexer": "ipython3",
   "version": "3.8.12"
  }
 },
 "nbformat": 4,
 "nbformat_minor": 5
}
