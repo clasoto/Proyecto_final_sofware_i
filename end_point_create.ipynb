{
 "cells": [
  {
   "cell_type": "code",
   "execution_count": 17,
   "id": "aeef6102",
   "metadata": {},
   "outputs": [],
   "source": [
    "import joblib\n",
    "import sagemaker\n",
    "from sagemaker.sklearn import SKLearnModel  #para agarrar el modelo que guardamos\n",
    "from sagemaker.serializers import CSVSerializer\n",
    "import os\n"
   ]
  },
  {
   "cell_type": "markdown",
   "id": "d69aab02",
   "metadata": {},
   "source": [
    "## **6) Despliegue del modelo usando Sagemaker SDK. Creación de Endpoint (8 puntos) **"
   ]
  },
  {
   "cell_type": "code",
   "execution_count": 18,
   "id": "b75c5cfd",
   "metadata": {},
   "outputs": [],
   "source": [
    "modelo = joblib.load('rend2.joblib')"
   ]
  },
  {
   "cell_type": "code",
   "execution_count": null,
   "id": "97e84e6d",
   "metadata": {},
   "outputs": [],
   "source": [
    "\n",
    "\n"
   ]
  },
  {
   "cell_type": "code",
   "execution_count": 19,
   "id": "1760422d",
   "metadata": {},
   "outputs": [],
   "source": [
    "session = sagemaker.Session()"
   ]
  },
  {
   "cell_type": "code",
   "execution_count": 20,
   "id": "55750e8a",
   "metadata": {},
   "outputs": [],
   "source": [
    "s3_uri_model = session.upload_data(bucket=\"proyecto-csr\",key_prefix=\"model\",path=\"rend2.tar.gz\")\n",
    "\n"
   ]
  },
  {
   "cell_type": "code",
   "execution_count": 21,
   "id": "5b12e4c1",
   "metadata": {},
   "outputs": [
    {
     "name": "stdout",
     "output_type": "stream",
     "text": [
      "Overwriting entry_point.py\n"
     ]
    }
   ],
   "source": [
    "%%writefile entry_point.py  \n",
    "import os\n",
    "import joblib\n",
    "def model_fn(model_path):\n",
    "    return joblib.load(os.path.join(model_path,'rend2.joblib'))"
   ]
  },
  {
   "cell_type": "code",
   "execution_count": 22,
   "id": "43385dfb",
   "metadata": {},
   "outputs": [],
   "source": [
    "model = SKLearnModel(entry_point='entry_point.py', role='LabRole', framework_version='1.0-1', model_data=s3_uri_model)"
   ]
  },
  {
   "cell_type": "code",
   "execution_count": 23,
   "id": "85e0ed11",
   "metadata": {},
   "outputs": [
    {
     "name": "stdout",
     "output_type": "stream",
     "text": [
      "---------!"
     ]
    }
   ],
   "source": [
    "predictor=model.deploy(initial_instance_count=1, instance_type='ml.m4.xlarge')"
   ]
  },
  {
   "cell_type": "code",
   "execution_count": 24,
   "id": "f44b5b93",
   "metadata": {},
   "outputs": [],
   "source": [
    "predictor.serializer = CSVSerializer()"
   ]
  }
 ],
 "metadata": {
  "kernelspec": {
   "display_name": "conda_pytorch_p38",
   "language": "python",
   "name": "conda_pytorch_p38"
  },
  "language_info": {
   "codemirror_mode": {
    "name": "ipython",
    "version": 3
   },
   "file_extension": ".py",
   "mimetype": "text/x-python",
   "name": "python",
   "nbconvert_exporter": "python",
   "pygments_lexer": "ipython3",
   "version": "3.8.12"
  }
 },
 "nbformat": 4,
 "nbformat_minor": 5
}
